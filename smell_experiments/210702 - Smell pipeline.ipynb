{
 "cells": [
  {
   "cell_type": "code",
   "execution_count": 1,
   "source": [
    "%load_ext autoreload\n",
    "%autoreload 2\n",
    "\n",
    "import numpy as np\n",
    "import pandas as pd\n",
    "from pathlib import Path\n",
    "path = Path('../data/smell')"
   ],
   "outputs": [],
   "metadata": {}
  },
  {
   "cell_type": "code",
   "execution_count": 5,
   "source": [
    "import sys\n",
    "sys.path.append('../')\n",
    "\n",
    "from pipeline.features import get_merged_df\n",
    "from pipeline import models, validation\n",
    "from sklearn.neighbors import KNeighborsClassifier\n",
    "from sklearn.model_selection import train_test_split\n",
    "from sklearn.metrics import roc_auc_score\n",
    "\n",
    "from itertools import combinations"
   ],
   "outputs": [],
   "metadata": {}
  },
  {
   "cell_type": "code",
   "execution_count": 3,
   "source": [
    "subj = 'A4SHD_21F'\n",
    "features_path = path / f'{subj}_inhale_features'\n",
    "feature_methods = [\n",
    "    'env-alpha',\n",
    "    'env-beta',\n",
    "    'coh-alpha',\n",
    "    'coh-beta',\n",
    "    'bands'\n",
    "]\n",
    "\n",
    "class_names = {1: 'Citrus', 2: 'Coffee', 3: 'Vanilla', 4: 'Water'}\n"
   ],
   "outputs": [],
   "metadata": {}
  },
  {
   "cell_type": "code",
   "execution_count": 4,
   "source": [
    "def get_binary(data, class_1, class_2=None):\n",
    "    if class_2 is not None:\n",
    "        bin_data = data[(data['target'] == class_1) | (data['target'] == class_2)].copy()\n",
    "    else:\n",
    "        bin_data = data.copy()\n",
    "\n",
    "    bin_data.loc[bin_data['target'] != class_1, 'target'] = 0\n",
    "    bin_data.loc[bin_data['target'] == class_1, 'target'] = 1\n",
    "    return bin_data.reset_index(drop=True).sample(frac=1)"
   ],
   "outputs": [],
   "metadata": {}
  },
  {
   "cell_type": "code",
   "execution_count": 12,
   "source": [
    "data = pd.read_csv(features_path/'baseline.csv', index_col='Unnamed: 0')\n",
    "features = list(data.columns.difference(['fn', 'target']))\n",
    "ch_names = data.columns.str.split('_', 1, expand=True).get_level_values(0).difference(['target']).to_list()\n",
    "data.head()"
   ],
   "outputs": [
    {
     "output_type": "execute_result",
     "data": {
      "text/plain": [
       "       Fp1_mean      Fp2_mean       F7_mean       F3_mean       Fz_mean  \\\n",
       "0  5.476820e-11  6.358849e-11  5.244603e-11  7.903467e-11  8.269926e-11   \n",
       "1  1.386051e-10  7.884947e-11  5.930822e-11  1.526049e-10  1.422883e-10   \n",
       "2  9.183398e-11  7.596609e-11  7.363824e-11  1.610715e-10  1.424902e-10   \n",
       "3  7.118582e-11  5.873586e-11  6.522775e-11  1.205407e-10  1.005179e-10   \n",
       "4  1.029511e-10  7.151963e-11  6.789690e-11  9.953743e-11  7.795030e-11   \n",
       "\n",
       "        F4_mean       F8_mean       T3_mean       C3_mean       Cz_mean  ...  \\\n",
       "0  8.732982e-11  5.075845e-11  8.838957e-11  2.189857e-10  3.345850e-10  ...   \n",
       "1  1.163825e-10  5.022872e-11  7.701282e-11  3.425515e-10  5.281641e-10  ...   \n",
       "2  1.374739e-10  5.895853e-11  7.983833e-11  4.286913e-10  7.335159e-10  ...   \n",
       "3  9.249823e-11  6.199296e-11  5.215314e-11  3.075634e-10  4.258486e-10  ...   \n",
       "4  6.077812e-11  5.028720e-11  4.709060e-11  2.344107e-10  2.491503e-10  ...   \n",
       "\n",
       "         C4_std        T4_std        T5_std        P3_std        Pz_std  \\\n",
       "0  1.059533e-10  3.056155e-11  1.050047e-10  2.642445e-10  4.169818e-10   \n",
       "1  2.601669e-10  7.739633e-11  1.147186e-10  4.266124e-10  6.694413e-10   \n",
       "2  4.790868e-10  1.504603e-11  1.596047e-10  8.576016e-10  1.301996e-09   \n",
       "3  2.052738e-10  3.865663e-11  9.480857e-11  3.567713e-10  5.419661e-10   \n",
       "4  1.227144e-10  3.324440e-11  1.661859e-10  4.696095e-10  7.159563e-10   \n",
       "\n",
       "         P4_std        T6_std        O1_std        O2_std  target  \n",
       "0  3.776755e-10  1.584446e-10  1.304534e-10  2.451194e-10       1  \n",
       "1  6.427358e-10  1.780139e-10  1.060154e-10  2.546162e-10       1  \n",
       "2  1.320175e-09  4.284265e-10  1.740868e-10  5.163595e-10       1  \n",
       "3  6.604429e-10  3.701189e-10  1.202206e-10  3.792895e-10       1  \n",
       "4  8.509541e-10  5.588410e-10  2.113593e-10  6.909829e-10       1  \n",
       "\n",
       "[5 rows x 39 columns]"
      ],
      "text/html": [
       "<div>\n",
       "<style scoped>\n",
       "    .dataframe tbody tr th:only-of-type {\n",
       "        vertical-align: middle;\n",
       "    }\n",
       "\n",
       "    .dataframe tbody tr th {\n",
       "        vertical-align: top;\n",
       "    }\n",
       "\n",
       "    .dataframe thead th {\n",
       "        text-align: right;\n",
       "    }\n",
       "</style>\n",
       "<table border=\"1\" class=\"dataframe\">\n",
       "  <thead>\n",
       "    <tr style=\"text-align: right;\">\n",
       "      <th></th>\n",
       "      <th>Fp1_mean</th>\n",
       "      <th>Fp2_mean</th>\n",
       "      <th>F7_mean</th>\n",
       "      <th>F3_mean</th>\n",
       "      <th>Fz_mean</th>\n",
       "      <th>F4_mean</th>\n",
       "      <th>F8_mean</th>\n",
       "      <th>T3_mean</th>\n",
       "      <th>C3_mean</th>\n",
       "      <th>Cz_mean</th>\n",
       "      <th>...</th>\n",
       "      <th>C4_std</th>\n",
       "      <th>T4_std</th>\n",
       "      <th>T5_std</th>\n",
       "      <th>P3_std</th>\n",
       "      <th>Pz_std</th>\n",
       "      <th>P4_std</th>\n",
       "      <th>T6_std</th>\n",
       "      <th>O1_std</th>\n",
       "      <th>O2_std</th>\n",
       "      <th>target</th>\n",
       "    </tr>\n",
       "  </thead>\n",
       "  <tbody>\n",
       "    <tr>\n",
       "      <th>0</th>\n",
       "      <td>5.476820e-11</td>\n",
       "      <td>6.358849e-11</td>\n",
       "      <td>5.244603e-11</td>\n",
       "      <td>7.903467e-11</td>\n",
       "      <td>8.269926e-11</td>\n",
       "      <td>8.732982e-11</td>\n",
       "      <td>5.075845e-11</td>\n",
       "      <td>8.838957e-11</td>\n",
       "      <td>2.189857e-10</td>\n",
       "      <td>3.345850e-10</td>\n",
       "      <td>...</td>\n",
       "      <td>1.059533e-10</td>\n",
       "      <td>3.056155e-11</td>\n",
       "      <td>1.050047e-10</td>\n",
       "      <td>2.642445e-10</td>\n",
       "      <td>4.169818e-10</td>\n",
       "      <td>3.776755e-10</td>\n",
       "      <td>1.584446e-10</td>\n",
       "      <td>1.304534e-10</td>\n",
       "      <td>2.451194e-10</td>\n",
       "      <td>1</td>\n",
       "    </tr>\n",
       "    <tr>\n",
       "      <th>1</th>\n",
       "      <td>1.386051e-10</td>\n",
       "      <td>7.884947e-11</td>\n",
       "      <td>5.930822e-11</td>\n",
       "      <td>1.526049e-10</td>\n",
       "      <td>1.422883e-10</td>\n",
       "      <td>1.163825e-10</td>\n",
       "      <td>5.022872e-11</td>\n",
       "      <td>7.701282e-11</td>\n",
       "      <td>3.425515e-10</td>\n",
       "      <td>5.281641e-10</td>\n",
       "      <td>...</td>\n",
       "      <td>2.601669e-10</td>\n",
       "      <td>7.739633e-11</td>\n",
       "      <td>1.147186e-10</td>\n",
       "      <td>4.266124e-10</td>\n",
       "      <td>6.694413e-10</td>\n",
       "      <td>6.427358e-10</td>\n",
       "      <td>1.780139e-10</td>\n",
       "      <td>1.060154e-10</td>\n",
       "      <td>2.546162e-10</td>\n",
       "      <td>1</td>\n",
       "    </tr>\n",
       "    <tr>\n",
       "      <th>2</th>\n",
       "      <td>9.183398e-11</td>\n",
       "      <td>7.596609e-11</td>\n",
       "      <td>7.363824e-11</td>\n",
       "      <td>1.610715e-10</td>\n",
       "      <td>1.424902e-10</td>\n",
       "      <td>1.374739e-10</td>\n",
       "      <td>5.895853e-11</td>\n",
       "      <td>7.983833e-11</td>\n",
       "      <td>4.286913e-10</td>\n",
       "      <td>7.335159e-10</td>\n",
       "      <td>...</td>\n",
       "      <td>4.790868e-10</td>\n",
       "      <td>1.504603e-11</td>\n",
       "      <td>1.596047e-10</td>\n",
       "      <td>8.576016e-10</td>\n",
       "      <td>1.301996e-09</td>\n",
       "      <td>1.320175e-09</td>\n",
       "      <td>4.284265e-10</td>\n",
       "      <td>1.740868e-10</td>\n",
       "      <td>5.163595e-10</td>\n",
       "      <td>1</td>\n",
       "    </tr>\n",
       "    <tr>\n",
       "      <th>3</th>\n",
       "      <td>7.118582e-11</td>\n",
       "      <td>5.873586e-11</td>\n",
       "      <td>6.522775e-11</td>\n",
       "      <td>1.205407e-10</td>\n",
       "      <td>1.005179e-10</td>\n",
       "      <td>9.249823e-11</td>\n",
       "      <td>6.199296e-11</td>\n",
       "      <td>5.215314e-11</td>\n",
       "      <td>3.075634e-10</td>\n",
       "      <td>4.258486e-10</td>\n",
       "      <td>...</td>\n",
       "      <td>2.052738e-10</td>\n",
       "      <td>3.865663e-11</td>\n",
       "      <td>9.480857e-11</td>\n",
       "      <td>3.567713e-10</td>\n",
       "      <td>5.419661e-10</td>\n",
       "      <td>6.604429e-10</td>\n",
       "      <td>3.701189e-10</td>\n",
       "      <td>1.202206e-10</td>\n",
       "      <td>3.792895e-10</td>\n",
       "      <td>1</td>\n",
       "    </tr>\n",
       "    <tr>\n",
       "      <th>4</th>\n",
       "      <td>1.029511e-10</td>\n",
       "      <td>7.151963e-11</td>\n",
       "      <td>6.789690e-11</td>\n",
       "      <td>9.953743e-11</td>\n",
       "      <td>7.795030e-11</td>\n",
       "      <td>6.077812e-11</td>\n",
       "      <td>5.028720e-11</td>\n",
       "      <td>4.709060e-11</td>\n",
       "      <td>2.344107e-10</td>\n",
       "      <td>2.491503e-10</td>\n",
       "      <td>...</td>\n",
       "      <td>1.227144e-10</td>\n",
       "      <td>3.324440e-11</td>\n",
       "      <td>1.661859e-10</td>\n",
       "      <td>4.696095e-10</td>\n",
       "      <td>7.159563e-10</td>\n",
       "      <td>8.509541e-10</td>\n",
       "      <td>5.588410e-10</td>\n",
       "      <td>2.113593e-10</td>\n",
       "      <td>6.909829e-10</td>\n",
       "      <td>1</td>\n",
       "    </tr>\n",
       "  </tbody>\n",
       "</table>\n",
       "<p>5 rows × 39 columns</p>\n",
       "</div>"
      ]
     },
     "metadata": {},
     "execution_count": 12
    }
   ],
   "metadata": {}
  },
  {
   "cell_type": "code",
   "execution_count": 86,
   "source": [
    "\n",
    "\n",
    "dfs = []\n",
    "\n",
    "for i, j in combinations(range(1, 5), 2):\n",
    "    scores = {}\n",
    "\n",
    "    for ch in ch_names:\n",
    "        df = get_binary(data[[f'{ch}_mean', f'{ch}_std', 'target']], i, j)\n",
    "\n",
    "        train_scores = []\n",
    "        test_scores = []\n",
    "\n",
    "        for _ in range(100):\n",
    "            train_ix, test_ix = train_test_split(df.index, stratify=df['target'])\n",
    "\n",
    "            X_train, y_train = df.loc[train_ix, [f'{ch}_mean', f'{ch}_std']], df.loc[train_ix, 'target']\n",
    "            X_test, y_test = df.loc[test_ix, [f'{ch}_mean', f'{ch}_std']], df.loc[test_ix, 'target']\n",
    "\n",
    "            clf = KNeighborsClassifier().fit(X_train, y_train)\n",
    "\n",
    "            train_scores.append(roc_auc_score(y_train, clf.predict_proba(X_train)[:, 1]))\n",
    "            test_scores.append(roc_auc_score(y_test, clf.predict_proba(X_test)[:, 1]))\n",
    "\n",
    "        scores[ch] = (np.mean(train_scores), np.mean(test_scores))\n",
    "\n",
    "    dfs.append(pd.DataFrame(scores, index=[f'train {i, j}', f'test {i, j}']).T)"
   ],
   "outputs": [],
   "metadata": {}
  },
  {
   "cell_type": "code",
   "execution_count": 87,
   "source": [
    "pd.concat(dfs, axis=1).round(3)"
   ],
   "outputs": [
    {
     "output_type": "execute_result",
     "data": {
      "text/plain": [
       "     train (1, 2)  test (1, 2)  train (1, 3)  test (1, 3)  train (1, 4)  \\\n",
       "C3          0.718        0.472         0.733        0.509         0.676   \n",
       "C4          0.655        0.373         0.689        0.441         0.687   \n",
       "Cz          0.611        0.366         0.676        0.397         0.731   \n",
       "F3          0.700        0.506         0.776        0.527         0.737   \n",
       "F4          0.679        0.459         0.736        0.498         0.697   \n",
       "F7          0.716        0.442         0.738        0.442         0.782   \n",
       "F8          0.683        0.417         0.651        0.406         0.682   \n",
       "Fp1         0.828        0.685         0.745        0.549         0.729   \n",
       "Fp2         0.672        0.392         0.683        0.449         0.688   \n",
       "Fz          0.696        0.454         0.726        0.480         0.684   \n",
       "O1          0.751        0.510         0.725        0.499         0.792   \n",
       "O2          0.780        0.601         0.795        0.562         0.761   \n",
       "P3          0.738        0.464         0.709        0.424         0.780   \n",
       "P4          0.666        0.388         0.661        0.367         0.698   \n",
       "Pz          0.678        0.372         0.653        0.393         0.745   \n",
       "T3          0.681        0.444         0.719        0.470         0.723   \n",
       "T4          0.785        0.536         0.708        0.421         0.650   \n",
       "T5          0.730        0.575         0.650        0.318         0.760   \n",
       "T6          0.708        0.474         0.743        0.492         0.698   \n",
       "\n",
       "     test (1, 4)  train (2, 3)  test (2, 3)  train (2, 4)  test (2, 4)  \\\n",
       "C3         0.460         0.726        0.562         0.706        0.542   \n",
       "C4         0.442         0.766        0.603         0.658        0.359   \n",
       "Cz         0.532         0.641        0.346         0.669        0.452   \n",
       "F3         0.476         0.695        0.432         0.677        0.427   \n",
       "F4         0.392         0.752        0.548         0.704        0.438   \n",
       "F7         0.577         0.698        0.454         0.719        0.513   \n",
       "F8         0.384         0.679        0.463         0.672        0.474   \n",
       "Fp1        0.529         0.746        0.553         0.759        0.576   \n",
       "Fp2        0.432         0.667        0.385         0.665        0.396   \n",
       "Fz         0.399         0.722        0.510         0.729        0.499   \n",
       "O1         0.636         0.653        0.370         0.751        0.535   \n",
       "O2         0.553         0.837        0.703         0.736        0.503   \n",
       "P3         0.581         0.699        0.434         0.756        0.547   \n",
       "P4         0.456         0.761        0.497         0.676        0.449   \n",
       "Pz         0.501         0.723        0.498         0.826        0.656   \n",
       "T3         0.468         0.727        0.499         0.682        0.431   \n",
       "T4         0.411         0.725        0.568         0.736        0.542   \n",
       "T5         0.627         0.686        0.455         0.699        0.497   \n",
       "T6         0.449         0.787        0.637         0.700        0.467   \n",
       "\n",
       "     train (3, 4)  test (3, 4)  \n",
       "C3          0.733        0.497  \n",
       "C4          0.799        0.625  \n",
       "Cz          0.752        0.520  \n",
       "F3          0.656        0.353  \n",
       "F4          0.709        0.470  \n",
       "F7          0.676        0.427  \n",
       "F8          0.690        0.443  \n",
       "Fp1         0.712        0.428  \n",
       "Fp2         0.634        0.374  \n",
       "Fz          0.761        0.533  \n",
       "O1          0.790        0.596  \n",
       "O2          0.891        0.773  \n",
       "P3          0.695        0.489  \n",
       "P4          0.712        0.485  \n",
       "Pz          0.771        0.579  \n",
       "T3          0.769        0.545  \n",
       "T4          0.733        0.536  \n",
       "T5          0.722        0.555  \n",
       "T6          0.795        0.635  "
      ],
      "text/html": [
       "<div>\n",
       "<style scoped>\n",
       "    .dataframe tbody tr th:only-of-type {\n",
       "        vertical-align: middle;\n",
       "    }\n",
       "\n",
       "    .dataframe tbody tr th {\n",
       "        vertical-align: top;\n",
       "    }\n",
       "\n",
       "    .dataframe thead th {\n",
       "        text-align: right;\n",
       "    }\n",
       "</style>\n",
       "<table border=\"1\" class=\"dataframe\">\n",
       "  <thead>\n",
       "    <tr style=\"text-align: right;\">\n",
       "      <th></th>\n",
       "      <th>train (1, 2)</th>\n",
       "      <th>test (1, 2)</th>\n",
       "      <th>train (1, 3)</th>\n",
       "      <th>test (1, 3)</th>\n",
       "      <th>train (1, 4)</th>\n",
       "      <th>test (1, 4)</th>\n",
       "      <th>train (2, 3)</th>\n",
       "      <th>test (2, 3)</th>\n",
       "      <th>train (2, 4)</th>\n",
       "      <th>test (2, 4)</th>\n",
       "      <th>train (3, 4)</th>\n",
       "      <th>test (3, 4)</th>\n",
       "    </tr>\n",
       "  </thead>\n",
       "  <tbody>\n",
       "    <tr>\n",
       "      <th>C3</th>\n",
       "      <td>0.718</td>\n",
       "      <td>0.472</td>\n",
       "      <td>0.733</td>\n",
       "      <td>0.509</td>\n",
       "      <td>0.676</td>\n",
       "      <td>0.460</td>\n",
       "      <td>0.726</td>\n",
       "      <td>0.562</td>\n",
       "      <td>0.706</td>\n",
       "      <td>0.542</td>\n",
       "      <td>0.733</td>\n",
       "      <td>0.497</td>\n",
       "    </tr>\n",
       "    <tr>\n",
       "      <th>C4</th>\n",
       "      <td>0.655</td>\n",
       "      <td>0.373</td>\n",
       "      <td>0.689</td>\n",
       "      <td>0.441</td>\n",
       "      <td>0.687</td>\n",
       "      <td>0.442</td>\n",
       "      <td>0.766</td>\n",
       "      <td>0.603</td>\n",
       "      <td>0.658</td>\n",
       "      <td>0.359</td>\n",
       "      <td>0.799</td>\n",
       "      <td>0.625</td>\n",
       "    </tr>\n",
       "    <tr>\n",
       "      <th>Cz</th>\n",
       "      <td>0.611</td>\n",
       "      <td>0.366</td>\n",
       "      <td>0.676</td>\n",
       "      <td>0.397</td>\n",
       "      <td>0.731</td>\n",
       "      <td>0.532</td>\n",
       "      <td>0.641</td>\n",
       "      <td>0.346</td>\n",
       "      <td>0.669</td>\n",
       "      <td>0.452</td>\n",
       "      <td>0.752</td>\n",
       "      <td>0.520</td>\n",
       "    </tr>\n",
       "    <tr>\n",
       "      <th>F3</th>\n",
       "      <td>0.700</td>\n",
       "      <td>0.506</td>\n",
       "      <td>0.776</td>\n",
       "      <td>0.527</td>\n",
       "      <td>0.737</td>\n",
       "      <td>0.476</td>\n",
       "      <td>0.695</td>\n",
       "      <td>0.432</td>\n",
       "      <td>0.677</td>\n",
       "      <td>0.427</td>\n",
       "      <td>0.656</td>\n",
       "      <td>0.353</td>\n",
       "    </tr>\n",
       "    <tr>\n",
       "      <th>F4</th>\n",
       "      <td>0.679</td>\n",
       "      <td>0.459</td>\n",
       "      <td>0.736</td>\n",
       "      <td>0.498</td>\n",
       "      <td>0.697</td>\n",
       "      <td>0.392</td>\n",
       "      <td>0.752</td>\n",
       "      <td>0.548</td>\n",
       "      <td>0.704</td>\n",
       "      <td>0.438</td>\n",
       "      <td>0.709</td>\n",
       "      <td>0.470</td>\n",
       "    </tr>\n",
       "    <tr>\n",
       "      <th>F7</th>\n",
       "      <td>0.716</td>\n",
       "      <td>0.442</td>\n",
       "      <td>0.738</td>\n",
       "      <td>0.442</td>\n",
       "      <td>0.782</td>\n",
       "      <td>0.577</td>\n",
       "      <td>0.698</td>\n",
       "      <td>0.454</td>\n",
       "      <td>0.719</td>\n",
       "      <td>0.513</td>\n",
       "      <td>0.676</td>\n",
       "      <td>0.427</td>\n",
       "    </tr>\n",
       "    <tr>\n",
       "      <th>F8</th>\n",
       "      <td>0.683</td>\n",
       "      <td>0.417</td>\n",
       "      <td>0.651</td>\n",
       "      <td>0.406</td>\n",
       "      <td>0.682</td>\n",
       "      <td>0.384</td>\n",
       "      <td>0.679</td>\n",
       "      <td>0.463</td>\n",
       "      <td>0.672</td>\n",
       "      <td>0.474</td>\n",
       "      <td>0.690</td>\n",
       "      <td>0.443</td>\n",
       "    </tr>\n",
       "    <tr>\n",
       "      <th>Fp1</th>\n",
       "      <td>0.828</td>\n",
       "      <td>0.685</td>\n",
       "      <td>0.745</td>\n",
       "      <td>0.549</td>\n",
       "      <td>0.729</td>\n",
       "      <td>0.529</td>\n",
       "      <td>0.746</td>\n",
       "      <td>0.553</td>\n",
       "      <td>0.759</td>\n",
       "      <td>0.576</td>\n",
       "      <td>0.712</td>\n",
       "      <td>0.428</td>\n",
       "    </tr>\n",
       "    <tr>\n",
       "      <th>Fp2</th>\n",
       "      <td>0.672</td>\n",
       "      <td>0.392</td>\n",
       "      <td>0.683</td>\n",
       "      <td>0.449</td>\n",
       "      <td>0.688</td>\n",
       "      <td>0.432</td>\n",
       "      <td>0.667</td>\n",
       "      <td>0.385</td>\n",
       "      <td>0.665</td>\n",
       "      <td>0.396</td>\n",
       "      <td>0.634</td>\n",
       "      <td>0.374</td>\n",
       "    </tr>\n",
       "    <tr>\n",
       "      <th>Fz</th>\n",
       "      <td>0.696</td>\n",
       "      <td>0.454</td>\n",
       "      <td>0.726</td>\n",
       "      <td>0.480</td>\n",
       "      <td>0.684</td>\n",
       "      <td>0.399</td>\n",
       "      <td>0.722</td>\n",
       "      <td>0.510</td>\n",
       "      <td>0.729</td>\n",
       "      <td>0.499</td>\n",
       "      <td>0.761</td>\n",
       "      <td>0.533</td>\n",
       "    </tr>\n",
       "    <tr>\n",
       "      <th>O1</th>\n",
       "      <td>0.751</td>\n",
       "      <td>0.510</td>\n",
       "      <td>0.725</td>\n",
       "      <td>0.499</td>\n",
       "      <td>0.792</td>\n",
       "      <td>0.636</td>\n",
       "      <td>0.653</td>\n",
       "      <td>0.370</td>\n",
       "      <td>0.751</td>\n",
       "      <td>0.535</td>\n",
       "      <td>0.790</td>\n",
       "      <td>0.596</td>\n",
       "    </tr>\n",
       "    <tr>\n",
       "      <th>O2</th>\n",
       "      <td>0.780</td>\n",
       "      <td>0.601</td>\n",
       "      <td>0.795</td>\n",
       "      <td>0.562</td>\n",
       "      <td>0.761</td>\n",
       "      <td>0.553</td>\n",
       "      <td>0.837</td>\n",
       "      <td>0.703</td>\n",
       "      <td>0.736</td>\n",
       "      <td>0.503</td>\n",
       "      <td>0.891</td>\n",
       "      <td>0.773</td>\n",
       "    </tr>\n",
       "    <tr>\n",
       "      <th>P3</th>\n",
       "      <td>0.738</td>\n",
       "      <td>0.464</td>\n",
       "      <td>0.709</td>\n",
       "      <td>0.424</td>\n",
       "      <td>0.780</td>\n",
       "      <td>0.581</td>\n",
       "      <td>0.699</td>\n",
       "      <td>0.434</td>\n",
       "      <td>0.756</td>\n",
       "      <td>0.547</td>\n",
       "      <td>0.695</td>\n",
       "      <td>0.489</td>\n",
       "    </tr>\n",
       "    <tr>\n",
       "      <th>P4</th>\n",
       "      <td>0.666</td>\n",
       "      <td>0.388</td>\n",
       "      <td>0.661</td>\n",
       "      <td>0.367</td>\n",
       "      <td>0.698</td>\n",
       "      <td>0.456</td>\n",
       "      <td>0.761</td>\n",
       "      <td>0.497</td>\n",
       "      <td>0.676</td>\n",
       "      <td>0.449</td>\n",
       "      <td>0.712</td>\n",
       "      <td>0.485</td>\n",
       "    </tr>\n",
       "    <tr>\n",
       "      <th>Pz</th>\n",
       "      <td>0.678</td>\n",
       "      <td>0.372</td>\n",
       "      <td>0.653</td>\n",
       "      <td>0.393</td>\n",
       "      <td>0.745</td>\n",
       "      <td>0.501</td>\n",
       "      <td>0.723</td>\n",
       "      <td>0.498</td>\n",
       "      <td>0.826</td>\n",
       "      <td>0.656</td>\n",
       "      <td>0.771</td>\n",
       "      <td>0.579</td>\n",
       "    </tr>\n",
       "    <tr>\n",
       "      <th>T3</th>\n",
       "      <td>0.681</td>\n",
       "      <td>0.444</td>\n",
       "      <td>0.719</td>\n",
       "      <td>0.470</td>\n",
       "      <td>0.723</td>\n",
       "      <td>0.468</td>\n",
       "      <td>0.727</td>\n",
       "      <td>0.499</td>\n",
       "      <td>0.682</td>\n",
       "      <td>0.431</td>\n",
       "      <td>0.769</td>\n",
       "      <td>0.545</td>\n",
       "    </tr>\n",
       "    <tr>\n",
       "      <th>T4</th>\n",
       "      <td>0.785</td>\n",
       "      <td>0.536</td>\n",
       "      <td>0.708</td>\n",
       "      <td>0.421</td>\n",
       "      <td>0.650</td>\n",
       "      <td>0.411</td>\n",
       "      <td>0.725</td>\n",
       "      <td>0.568</td>\n",
       "      <td>0.736</td>\n",
       "      <td>0.542</td>\n",
       "      <td>0.733</td>\n",
       "      <td>0.536</td>\n",
       "    </tr>\n",
       "    <tr>\n",
       "      <th>T5</th>\n",
       "      <td>0.730</td>\n",
       "      <td>0.575</td>\n",
       "      <td>0.650</td>\n",
       "      <td>0.318</td>\n",
       "      <td>0.760</td>\n",
       "      <td>0.627</td>\n",
       "      <td>0.686</td>\n",
       "      <td>0.455</td>\n",
       "      <td>0.699</td>\n",
       "      <td>0.497</td>\n",
       "      <td>0.722</td>\n",
       "      <td>0.555</td>\n",
       "    </tr>\n",
       "    <tr>\n",
       "      <th>T6</th>\n",
       "      <td>0.708</td>\n",
       "      <td>0.474</td>\n",
       "      <td>0.743</td>\n",
       "      <td>0.492</td>\n",
       "      <td>0.698</td>\n",
       "      <td>0.449</td>\n",
       "      <td>0.787</td>\n",
       "      <td>0.637</td>\n",
       "      <td>0.700</td>\n",
       "      <td>0.467</td>\n",
       "      <td>0.795</td>\n",
       "      <td>0.635</td>\n",
       "    </tr>\n",
       "  </tbody>\n",
       "</table>\n",
       "</div>"
      ]
     },
     "metadata": {},
     "execution_count": 87
    }
   ],
   "metadata": {}
  },
  {
   "cell_type": "markdown",
   "source": [
    "## Repeated train/test validation on all features"
   ],
   "metadata": {}
  },
  {
   "cell_type": "code",
   "execution_count": 26,
   "source": [
    "for i, j in combinations(range(1, 5), 2):\n",
    "    df = get_binary(data, i, j)\n",
    "\n",
    "    train_scores = []\n",
    "    test_scores = []\n",
    "\n",
    "    for _ in range(200):\n",
    "        train_ix, test_ix = train_test_split(df.index, stratify=df['target'])\n",
    "\n",
    "        X_train, y_train = df.loc[train_ix, features], df.loc[train_ix, 'target']\n",
    "        X_test, y_test = df.loc[test_ix, features], df.loc[test_ix, 'target']\n",
    "\n",
    "        clf = KNeighborsClassifier().fit(X_train, y_train)\n",
    "\n",
    "        train_scores.append(roc_auc_score(y_train, clf.predict_proba(X_train)[:, 1]))\n",
    "        test_scores.append(roc_auc_score(y_test, clf.predict_proba(X_test)[:, 1]))\n",
    "\n",
    "    print(f\"{np.mean(train_scores):.3f} {np.mean(test_scores):.3f}\", end=' ')"
   ],
   "outputs": [
    {
     "output_type": "stream",
     "name": "stdout",
     "text": [
      "0.652 0.392 0.698 0.428 0.747 0.532 0.742 0.500 0.716 0.495 0.795 0.598 "
     ]
    }
   ],
   "metadata": {}
  },
  {
   "cell_type": "markdown",
   "source": [
    "## Select features using the train dataset"
   ],
   "metadata": {}
  },
  {
   "cell_type": "code",
   "execution_count": 93,
   "source": [
    "model = KNeighborsClassifier()\n",
    "\n",
    "df = get_binary(data, 1, 3)\n",
    "\n",
    "train_ix, test_ix = train_test_split(df.index, stratify=df['target'])\n",
    "selected_features, score, history = models.select_features(df.loc[train_ix], features, model, verbose=True)\n",
    "print(f\"{score.roc_aucs.mean() = }, {score.accs.mean() = }\")\n",
    "\n",
    "X_train, y_train = df.loc[train_ix, selected_features], df.loc[train_ix, 'target']\n",
    "X_test, y_test = df.loc[test_ix, selected_features], df.loc[test_ix, 'target']\n",
    "\n",
    "clf = KNeighborsClassifier().fit(X_train, y_train)\n",
    "\n",
    "print(f\"{roc_auc_score(y_test, clf.predict_proba(X_test)[:, 1])}\")"
   ],
   "outputs": [
    {
     "output_type": "stream",
     "name": "stdout",
     "text": [
      "Feature selection. Step 1\n",
      "feature_name    \troc-auc \taccuracy\n"
     ]
    },
    {
     "output_type": "display_data",
     "data": {
      "text/plain": [
       "  0%|          | 0/38 [00:00<?, ?it/s]"
      ],
      "application/vnd.jupyter.widget-view+json": {
       "version_major": 2,
       "version_minor": 0,
       "model_id": "1c3b32fe793740e4ab33478751f827d0"
      }
     },
     "metadata": {}
    },
    {
     "output_type": "stream",
     "name": "stdout",
     "text": [
      "O2_mean         \t0.384783\t0.420000\n",
      "P4_std          \t0.334684\t0.383333\n",
      "T5_std          \t0.480138\t0.545556\n",
      "T4_mean         \t0.435919\t0.480000\n",
      "F4_mean         \t0.380484\t0.431111\n",
      "T3_std          \t0.275049\t0.308889\n",
      "Cz_std          \t0.474061\t0.455556\n",
      "C3_std          \t0.425000\t0.511111\n",
      "T6_std          \t0.439872\t0.445556\n",
      "T5_mean         \t0.361512\t0.436667\n",
      "F7_mean         \t0.471393\t0.504444\n",
      "Cz_mean         \t0.524901\t0.623333\n",
      "F8_std          \t0.537994\t0.635556\n",
      "F8_mean         \t0.545158\t0.601111\n",
      "Fz_mean         \t0.509931\t0.558889\n",
      "O2_std          \t0.276186\t0.324444\n",
      "Fp1_mean        \t0.521097\t0.586667\n",
      "F3_std          \t0.488488\t0.546667\n",
      "Pz_std          \t0.331374\t0.426667\n",
      "Fp2_std         \t0.540119\t0.613333\n",
      "C4_std          \t0.447184\t0.515556\n",
      "Fp1_std         \t0.528804\t0.591111\n",
      "P4_mean         \t0.265563\t0.325556\n",
      "T4_std          \t0.498271\t0.580000\n",
      "O1_mean         \t0.405237\t0.452222\n",
      "T6_mean         \t0.414032\t0.452222\n",
      "F4_std          \t0.530781\t0.550000\n",
      "P3_std          \t0.386067\t0.426667\n",
      "F3_mean         \t0.504743\t0.542222\n",
      "Pz_mean         \t0.449802\t0.498889\n",
      "Fp2_mean        \t0.536018\t0.593333\n",
      "T3_mean         \t0.558251\t0.621111\n",
      "Fz_std          \t0.503211\t0.531111\n",
      "F7_std          \t0.536561\t0.592222\n",
      "P3_mean         \t0.363636\t0.344444\n",
      "C3_mean         \t0.400247\t0.460000\n",
      "C4_mean         \t0.537994\t0.574444\n",
      "O1_std          \t0.334338\t0.365556\n",
      "\n",
      "Feature selection. Step 2\n",
      "feature_name    \troc-auc \taccuracy\n"
     ]
    },
    {
     "output_type": "display_data",
     "data": {
      "text/plain": [
       "  0%|          | 0/4 [00:00<?, ?it/s]"
      ],
      "application/vnd.jupyter.widget-view+json": {
       "version_major": 2,
       "version_minor": 0,
       "model_id": "90bfb3367ae44bf08734d2fa889f2518"
      }
     },
     "metadata": {}
    },
    {
     "output_type": "stream",
     "name": "stdout",
     "text": [
      "Cz_mean         \t0.486364\t0.467778\n",
      "F8_std          \t0.530534\t0.611111\n",
      "F8_mean         \t0.540464\t0.626667\n",
      "T3_mean         \t0.545158\t0.601111\n",
      "\n",
      "score.roc_aucs.mean() = 0.5582509881422926, score.accs.mean() = 0.6211111111111111\n",
      "0.4375\n"
     ]
    }
   ],
   "metadata": {}
  },
  {
   "cell_type": "code",
   "execution_count": 62,
   "source": [
    "history"
   ],
   "outputs": [
    {
     "output_type": "execute_result",
     "data": {
      "text/plain": [
       "   feature   action     score  score_std\n",
       "0  Pz_mean    added  0.590267   0.040625\n",
       "1  F3_mean    added  0.606719   0.036855\n",
       "2  Fp2_std    added  0.615761   0.040543\n",
       "3  T4_mean    added  0.629150   0.041257\n",
       "4  Fp2_std  removed  0.634387   0.040918"
      ],
      "text/html": [
       "<div>\n",
       "<style scoped>\n",
       "    .dataframe tbody tr th:only-of-type {\n",
       "        vertical-align: middle;\n",
       "    }\n",
       "\n",
       "    .dataframe tbody tr th {\n",
       "        vertical-align: top;\n",
       "    }\n",
       "\n",
       "    .dataframe thead th {\n",
       "        text-align: right;\n",
       "    }\n",
       "</style>\n",
       "<table border=\"1\" class=\"dataframe\">\n",
       "  <thead>\n",
       "    <tr style=\"text-align: right;\">\n",
       "      <th></th>\n",
       "      <th>feature</th>\n",
       "      <th>action</th>\n",
       "      <th>score</th>\n",
       "      <th>score_std</th>\n",
       "    </tr>\n",
       "  </thead>\n",
       "  <tbody>\n",
       "    <tr>\n",
       "      <th>0</th>\n",
       "      <td>Pz_mean</td>\n",
       "      <td>added</td>\n",
       "      <td>0.590267</td>\n",
       "      <td>0.040625</td>\n",
       "    </tr>\n",
       "    <tr>\n",
       "      <th>1</th>\n",
       "      <td>F3_mean</td>\n",
       "      <td>added</td>\n",
       "      <td>0.606719</td>\n",
       "      <td>0.036855</td>\n",
       "    </tr>\n",
       "    <tr>\n",
       "      <th>2</th>\n",
       "      <td>Fp2_std</td>\n",
       "      <td>added</td>\n",
       "      <td>0.615761</td>\n",
       "      <td>0.040543</td>\n",
       "    </tr>\n",
       "    <tr>\n",
       "      <th>3</th>\n",
       "      <td>T4_mean</td>\n",
       "      <td>added</td>\n",
       "      <td>0.629150</td>\n",
       "      <td>0.041257</td>\n",
       "    </tr>\n",
       "    <tr>\n",
       "      <th>4</th>\n",
       "      <td>Fp2_std</td>\n",
       "      <td>removed</td>\n",
       "      <td>0.634387</td>\n",
       "      <td>0.040918</td>\n",
       "    </tr>\n",
       "  </tbody>\n",
       "</table>\n",
       "</div>"
      ]
     },
     "metadata": {},
     "execution_count": 62
    }
   ],
   "metadata": {}
  },
  {
   "cell_type": "code",
   "execution_count": 97,
   "source": [
    "model = KNeighborsClassifier()"
   ],
   "outputs": [],
   "metadata": {}
  },
  {
   "cell_type": "code",
   "execution_count": 108,
   "source": [
    "feature_selection_results = {}\n",
    "\n",
    "for i, j in combinations(range(1, 5), 2):\n",
    "    method = validation.TrainTestValidator(get_binary(data, i, j), features, model, p_bar=0)\n",
    "    selected_features, score = method.get_features()\n",
    "    feature_selection_results[i, j] = (selected_features, score.roc_auc)"
   ],
   "outputs": [],
   "metadata": {}
  },
  {
   "cell_type": "code",
   "execution_count": 121,
   "source": [
    "from collections import defaultdict\n",
    "from tqdm import trange\n",
    "\n",
    "nested_cv_scores = defaultdict(list)\n",
    "\n",
    "for i, j in combinations(range(1, 5), 2):\n",
    "    for _ in trange(20):\n",
    "        method = validation.NestedCrossValidator(get_binary(data, i, j), features, model, p_bar=0)\n",
    "        # selected_features, score = method.get_features()\n",
    "        score = method.get_prediction_result()\n",
    "        nested_cv_scores[i, j].append(score.roc_auc)\n"
   ],
   "outputs": [
    {
     "output_type": "stream",
     "name": "stderr",
     "text": [
      "100%|██████████| 20/20 [09:04<00:00, 27.22s/it]\n",
      "100%|██████████| 20/20 [08:43<00:00, 26.19s/it]\n",
      "100%|██████████| 20/20 [08:57<00:00, 26.86s/it]\n",
      "100%|██████████| 20/20 [09:22<00:00, 28.14s/it]\n",
      "100%|██████████| 20/20 [08:48<00:00, 26.43s/it]\n",
      "100%|██████████| 20/20 [09:24<00:00, 28.24s/it]\n"
     ]
    }
   ],
   "metadata": {}
  },
  {
   "cell_type": "code",
   "execution_count": 130,
   "source": [
    "for (i, j), scores in nested_cv_scores.items():\n",
    "    print(f\"{class_names[i]}/{class_names[j]} {np.mean(scores):.3f}\")"
   ],
   "outputs": [
    {
     "output_type": "stream",
     "name": "stdout",
     "text": [
      "Citrus/Coffee 0.537\n",
      "Citrus/Vanilla 0.508\n",
      "Citrus/Water 0.566\n",
      "Coffee/Vanilla 0.403\n",
      "Coffee/Water 0.449\n",
      "Vanilla/Water 0.483\n"
     ]
    }
   ],
   "metadata": {}
  },
  {
   "cell_type": "code",
   "execution_count": 13,
   "source": [
    "data.loc[data['target'] == 1, 'Fp1_std'].plot.kde()\n",
    "data.loc[data['target'] == 2, 'Fp1_std'].plot.kde()"
   ],
   "outputs": [
    {
     "output_type": "execute_result",
     "data": {
      "text/plain": [
       "<AxesSubplot:ylabel='Density'>"
      ]
     },
     "metadata": {},
     "execution_count": 13
    },
    {
     "output_type": "display_data",
     "data": {
      "text/plain": [
       "<Figure size 432x288 with 1 Axes>"
      ],
      "image/png": "[encoded data removed]"
     },
     "metadata": {
      "needs_background": "light"
     }
    }
   ],
   "metadata": {}
  },
  {
   "cell_type": "code",
   "execution_count": 23,
   "source": [
    "import matplotlib.pyplot as plt\n",
    "for ch in ch_names:\n",
    "    plt.title(ch)\n",
    "    plt.scatter(*data.loc[data['target'] == 1, [f'{ch}_mean', f'{ch}_std']].values.T)\n",
    "    plt.scatter(*data.loc[data['target'] == 2, [f'{ch}_mean', f'{ch}_std']].values.T)\n",
    "    plt.show()"
   ],
   "outputs": [
    {
     "output_type": "display_data",
     "data": {
      "text/plain": [
       "<Figure size 432x288 with 1 Axes>"
      ],
      "image/png": "[encoded data removed]"
     },
     "metadata": {
      "needs_background": "light"
     }
    },
    {
     "output_type": "display_data",
     "data": {
      "text/plain": [
       "<Figure size 432x288 with 1 Axes>"
      ],
      "image/png": "[encoded data removed]"
     },
     "metadata": {
      "needs_background": "light"
     }
    },
    {
     "output_type": "display_data",
     "data": {
      "text/plain": [
       "<Figure size 432x288 with 1 Axes>"
      ],
      "image/png": "[encoded data removed]"
     },
     "metadata": {
      "needs_background": "light"
     }
    },
    {
     "output_type": "display_data",
     "data": {
      "text/plain": [
       "<Figure size 432x288 with 1 Axes>"
      ],
      "image/png": "[encoded data removed]"
     },
     "metadata": {
      "needs_background": "light"
     }
    },
    {
     "output_type": "display_data",
     "data": {
      "text/plain": [
       "<Figure size 432x288 with 1 Axes>"
      ],
      "image/png": "[encoded data removed]"
     },
     "metadata": {
      "needs_background": "light"
     }
    },
    {
     "output_type": "display_data",
     "data": {
      "text/plain": [
       "<Figure size 432x288 with 1 Axes>"
      ],
      "image/png": "[encoded data removed]"
     },
     "metadata": {
      "needs_background": "light"
     }
    },
    {
     "output_type": "display_data",
     "data": {
      "text/plain": [
       "<Figure size 432x288 with 1 Axes>"
      ],
      "image/png": "[encoded data removed]"
     },
     "metadata": {
      "needs_background": "light"
     }
    },
    {
     "output_type": "display_data",
     "data": {
      "text/plain": [
       "<Figure size 432x288 with 1 Axes>"
      ],
      "image/png": "[encoded data removed]"
     },
     "metadata": {
      "needs_background": "light"
     }
    },
    {
     "output_type": "display_data",
     "data": {
      "text/plain": [
       "<Figure size 432x288 with 1 Axes>"
      ],
      "image/png": "[encoded data removed]"
     },
     "metadata": {
      "needs_background": "light"
     }
    },
    {
     "output_type": "display_data",
     "data": {
      "text/plain": [
       "<Figure size 432x288 with 1 Axes>"
      ],
      "image/png": "[encoded data removed]"
     },
     "metadata": {
      "needs_background": "light"
     }
    },
    {
     "output_type": "display_data",
     "data": {
      "text/plain": [
       "<Figure size 432x288 with 1 Axes>"
      ],
      "image/png": "[encoded data removed]"
     },
     "metadata": {
      "needs_background": "light"
     }
    },
    {
     "output_type": "display_data",
     "data": {
      "text/plain": [
       "<Figure size 432x288 with 1 Axes>"
      ],
      "image/png": "[encoded data removed]"
     },
     "metadata": {
      "needs_background": "light"
     }
    },
    {
     "output_type": "display_data",
     "data": {
      "text/plain": [
       "<Figure size 432x288 with 1 Axes>"
      ],
      "image/png": "[encoded data removed]"
     },
     "metadata": {
      "needs_background": "light"
     }
    },
    {
     "output_type": "display_data",
     "data": {
      "text/plain": [
       "<Figure size 432x288 with 1 Axes>"
      ],
      "image/png": "[encoded data removed]"
     },
     "metadata": {
      "needs_background": "light"
     }
    },
    {
     "output_type": "display_data",
     "data": {
      "text/plain": [
       "<Figure size 432x288 with 1 Axes>"
      ],
      "image/png": "[encoded data removed]"
     },
     "metadata": {
      "needs_background": "light"
     }
    },
    {
     "output_type": "display_data",
     "data": {
      "text/plain": [
       "<Figure size 432x288 with 1 Axes>"
      ],
      "image/png": "[encoded data removed]"
     },
     "metadata": {
      "needs_background": "light"
     }
    },
    {
     "output_type": "display_data",
     "data": {
      "text/plain": [
       "<Figure size 432x288 with 1 Axes>"
      ],
      "image/png": "[encoded data removed]"
     },
     "metadata": {
      "needs_background": "light"
     }
    },
    {
     "output_type": "display_data",
     "data": {
      "text/plain": [
       "<Figure size 432x288 with 1 Axes>"
      ],
      "image/png": "[encoded data removed]"
     },
     "metadata": {
      "needs_background": "light"
     }
    },
    {
     "output_type": "display_data",
     "data": {
      "text/plain": [
       "<Figure size 432x288 with 1 Axes>"
      ],
      "image/png": "[encoded data removed]"
     },
     "metadata": {
      "needs_background": "light"
     }
    }
   ],
   "metadata": {}
  },
  {
   "cell_type": "code",
   "execution_count": null,
   "source": [
    "from scipy.stats import pearsonr\n",
    "for i, j in combinations(range(1, 5), 2):\n",
    "    for feature in features:\n",
    "        \n"
   ],
   "outputs": [],
   "metadata": {}
  },
  {
   "cell_type": "code",
   "execution_count": 14,
   "source": [
    "from scipy.stats import ttest_ind\n",
    "\n",
    "dfs = []\n",
    "for i, j in combinations(range(1, 5), 2):\n",
    "\n",
    "    t_tests = ttest_ind(data.loc[data['target'] == i, features], data.loc[data['target'] == j, features])\n",
    "    dfs.append(pd.Series(np.stack(t_tests)[1], index=features, name=f'{class_names[i]}/{class_names[j]}'))\n",
    "\n",
    "p_vals = pd.concat(dfs, axis=1).round(2)"
   ],
   "outputs": [
    {
     "output_type": "error",
     "ename": "TypeError",
     "evalue": "No loop matching the specified signature and casting was found for ufunc add",
     "traceback": [
      "\u001b[0;31m---------------------------------------------------------------------------\u001b[0m",
      "\u001b[0;31mTypeError\u001b[0m                                 Traceback (most recent call last)",
      "\u001b[0;32m<ipython-input-14-9a14fc0ba2e0>\u001b[0m in \u001b[0;36m<module>\u001b[0;34m\u001b[0m\n\u001b[1;32m      4\u001b[0m \u001b[0;32mfor\u001b[0m \u001b[0mi\u001b[0m\u001b[0;34m,\u001b[0m \u001b[0mj\u001b[0m \u001b[0;32min\u001b[0m \u001b[0mcombinations\u001b[0m\u001b[0;34m(\u001b[0m\u001b[0mrange\u001b[0m\u001b[0;34m(\u001b[0m\u001b[0;36m1\u001b[0m\u001b[0;34m,\u001b[0m \u001b[0;36m5\u001b[0m\u001b[0;34m)\u001b[0m\u001b[0;34m,\u001b[0m \u001b[0;36m2\u001b[0m\u001b[0;34m)\u001b[0m\u001b[0;34m:\u001b[0m\u001b[0;34m\u001b[0m\u001b[0;34m\u001b[0m\u001b[0m\n\u001b[1;32m      5\u001b[0m \u001b[0;34m\u001b[0m\u001b[0m\n\u001b[0;32m----> 6\u001b[0;31m     \u001b[0mt_tests\u001b[0m \u001b[0;34m=\u001b[0m \u001b[0mpearsonr\u001b[0m\u001b[0;34m(\u001b[0m\u001b[0mdata\u001b[0m\u001b[0;34m.\u001b[0m\u001b[0mloc\u001b[0m\u001b[0;34m[\u001b[0m\u001b[0mdata\u001b[0m\u001b[0;34m[\u001b[0m\u001b[0;34m'target'\u001b[0m\u001b[0;34m]\u001b[0m \u001b[0;34m==\u001b[0m \u001b[0mi\u001b[0m\u001b[0;34m,\u001b[0m \u001b[0mfeatures\u001b[0m\u001b[0;34m]\u001b[0m\u001b[0;34m,\u001b[0m \u001b[0mdata\u001b[0m\u001b[0;34m.\u001b[0m\u001b[0mloc\u001b[0m\u001b[0;34m[\u001b[0m\u001b[0mdata\u001b[0m\u001b[0;34m[\u001b[0m\u001b[0;34m'target'\u001b[0m\u001b[0;34m]\u001b[0m \u001b[0;34m==\u001b[0m \u001b[0mj\u001b[0m\u001b[0;34m,\u001b[0m \u001b[0mfeatures\u001b[0m\u001b[0;34m]\u001b[0m\u001b[0;34m)\u001b[0m\u001b[0;34m\u001b[0m\u001b[0;34m\u001b[0m\u001b[0m\n\u001b[0m\u001b[1;32m      7\u001b[0m     \u001b[0mdfs\u001b[0m\u001b[0;34m.\u001b[0m\u001b[0mappend\u001b[0m\u001b[0;34m(\u001b[0m\u001b[0mpd\u001b[0m\u001b[0;34m.\u001b[0m\u001b[0mSeries\u001b[0m\u001b[0;34m(\u001b[0m\u001b[0mnp\u001b[0m\u001b[0;34m.\u001b[0m\u001b[0mstack\u001b[0m\u001b[0;34m(\u001b[0m\u001b[0mt_tests\u001b[0m\u001b[0;34m)\u001b[0m\u001b[0;34m[\u001b[0m\u001b[0;36m1\u001b[0m\u001b[0;34m]\u001b[0m\u001b[0;34m,\u001b[0m \u001b[0mindex\u001b[0m\u001b[0;34m=\u001b[0m\u001b[0mfeatures\u001b[0m\u001b[0;34m,\u001b[0m \u001b[0mname\u001b[0m\u001b[0;34m=\u001b[0m\u001b[0;34mf'{class_names[i]}/{class_names[j]}'\u001b[0m\u001b[0;34m)\u001b[0m\u001b[0;34m)\u001b[0m\u001b[0;34m\u001b[0m\u001b[0;34m\u001b[0m\u001b[0m\n\u001b[1;32m      8\u001b[0m \u001b[0;34m\u001b[0m\u001b[0m\n",
      "\u001b[0;32m~/anaconda3/envs/neuroml/lib/python3.9/site-packages/scipy/stats/stats.py\u001b[0m in \u001b[0;36mpearsonr\u001b[0;34m(x, y)\u001b[0m\n\u001b[1;32m   3922\u001b[0m         \u001b[0;32mreturn\u001b[0m \u001b[0mdtype\u001b[0m\u001b[0;34m(\u001b[0m\u001b[0mnp\u001b[0m\u001b[0;34m.\u001b[0m\u001b[0msign\u001b[0m\u001b[0;34m(\u001b[0m\u001b[0mx\u001b[0m\u001b[0;34m[\u001b[0m\u001b[0;36m1\u001b[0m\u001b[0;34m]\u001b[0m \u001b[0;34m-\u001b[0m \u001b[0mx\u001b[0m\u001b[0;34m[\u001b[0m\u001b[0;36m0\u001b[0m\u001b[0;34m]\u001b[0m\u001b[0;34m)\u001b[0m\u001b[0;34m*\u001b[0m\u001b[0mnp\u001b[0m\u001b[0;34m.\u001b[0m\u001b[0msign\u001b[0m\u001b[0;34m(\u001b[0m\u001b[0my\u001b[0m\u001b[0;34m[\u001b[0m\u001b[0;36m1\u001b[0m\u001b[0;34m]\u001b[0m \u001b[0;34m-\u001b[0m \u001b[0my\u001b[0m\u001b[0;34m[\u001b[0m\u001b[0;36m0\u001b[0m\u001b[0;34m]\u001b[0m\u001b[0;34m)\u001b[0m\u001b[0;34m)\u001b[0m\u001b[0;34m,\u001b[0m \u001b[0;36m1.0\u001b[0m\u001b[0;34m\u001b[0m\u001b[0;34m\u001b[0m\u001b[0m\n\u001b[1;32m   3923\u001b[0m \u001b[0;34m\u001b[0m\u001b[0m\n\u001b[0;32m-> 3924\u001b[0;31m     \u001b[0mxmean\u001b[0m \u001b[0;34m=\u001b[0m \u001b[0mx\u001b[0m\u001b[0;34m.\u001b[0m\u001b[0mmean\u001b[0m\u001b[0;34m(\u001b[0m\u001b[0mdtype\u001b[0m\u001b[0;34m=\u001b[0m\u001b[0mdtype\u001b[0m\u001b[0;34m)\u001b[0m\u001b[0;34m\u001b[0m\u001b[0;34m\u001b[0m\u001b[0m\n\u001b[0m\u001b[1;32m   3925\u001b[0m     \u001b[0mymean\u001b[0m \u001b[0;34m=\u001b[0m \u001b[0my\u001b[0m\u001b[0;34m.\u001b[0m\u001b[0mmean\u001b[0m\u001b[0;34m(\u001b[0m\u001b[0mdtype\u001b[0m\u001b[0;34m=\u001b[0m\u001b[0mdtype\u001b[0m\u001b[0;34m)\u001b[0m\u001b[0;34m\u001b[0m\u001b[0;34m\u001b[0m\u001b[0m\n\u001b[1;32m   3926\u001b[0m \u001b[0;34m\u001b[0m\u001b[0m\n",
      "\u001b[0;32m~/.local/lib/python3.9/site-packages/numpy/core/_methods.py\u001b[0m in \u001b[0;36m_mean\u001b[0;34m(a, axis, dtype, out, keepdims, where)\u001b[0m\n\u001b[1;32m    176\u001b[0m             \u001b[0mis_float16_result\u001b[0m \u001b[0;34m=\u001b[0m \u001b[0;32mTrue\u001b[0m\u001b[0;34m\u001b[0m\u001b[0;34m\u001b[0m\u001b[0m\n\u001b[1;32m    177\u001b[0m \u001b[0;34m\u001b[0m\u001b[0m\n\u001b[0;32m--> 178\u001b[0;31m     \u001b[0mret\u001b[0m \u001b[0;34m=\u001b[0m \u001b[0mumr_sum\u001b[0m\u001b[0;34m(\u001b[0m\u001b[0marr\u001b[0m\u001b[0;34m,\u001b[0m \u001b[0maxis\u001b[0m\u001b[0;34m,\u001b[0m \u001b[0mdtype\u001b[0m\u001b[0;34m,\u001b[0m \u001b[0mout\u001b[0m\u001b[0;34m,\u001b[0m \u001b[0mkeepdims\u001b[0m\u001b[0;34m,\u001b[0m \u001b[0mwhere\u001b[0m\u001b[0;34m=\u001b[0m\u001b[0mwhere\u001b[0m\u001b[0;34m)\u001b[0m\u001b[0;34m\u001b[0m\u001b[0;34m\u001b[0m\u001b[0m\n\u001b[0m\u001b[1;32m    179\u001b[0m     \u001b[0;32mif\u001b[0m \u001b[0misinstance\u001b[0m\u001b[0;34m(\u001b[0m\u001b[0mret\u001b[0m\u001b[0;34m,\u001b[0m \u001b[0mmu\u001b[0m\u001b[0;34m.\u001b[0m\u001b[0mndarray\u001b[0m\u001b[0;34m)\u001b[0m\u001b[0;34m:\u001b[0m\u001b[0;34m\u001b[0m\u001b[0;34m\u001b[0m\u001b[0m\n\u001b[1;32m    180\u001b[0m         ret = um.true_divide(\n",
      "\u001b[0;31mTypeError\u001b[0m: No loop matching the specified signature and casting was found for ufunc add"
     ]
    }
   ],
   "metadata": {}
  },
  {
   "cell_type": "code",
   "execution_count": 76,
   "source": [
    "def accuracy_score(true, prob, thresh=0.5):\n",
    "    return np.mean(true == (prob >= thresh))"
   ],
   "outputs": [],
   "metadata": {}
  },
  {
   "cell_type": "code",
   "execution_count": 78,
   "source": [
    "from sklearn.linear_model import LogisticRegression"
   ],
   "outputs": [],
   "metadata": {}
  },
  {
   "cell_type": "code",
   "execution_count": 114,
   "source": [
    "for (i, j), (test_features, score) in feature_selection_results.items():\n",
    "    df = get_binary(data, i, j)\n",
    "\n",
    "    train_scores = []\n",
    "    test_scores = []\n",
    "\n",
    "    for _ in range(200):\n",
    "        train_ix, test_ix = train_test_split(df.index, stratify=df['target'])\n",
    "\n",
    "        X_train, y_train = df.loc[train_ix, test_features], df.loc[train_ix, 'target']\n",
    "        X_test, y_test = df.loc[test_ix, test_features], df.loc[test_ix, 'target']\n",
    "\n",
    "        clf = KNeighborsClassifier().fit(X_train, y_train)\n",
    "\n",
    "        train_scores.append(roc_auc_score(y_train, clf.predict_proba(X_train)[:, 1]))\n",
    "        test_scores.append(roc_auc_score(y_test, clf.predict_proba(X_test)[:, 1]))\n",
    "\n",
    "    print(f\"{class_names[i]}/{class_names[j]}\\t{score:.3f} {np.mean(train_scores):.3f} {np.std(train_scores):.3f} {np.mean(test_scores):.3f} {np.std(test_scores):.3f}\")"
   ],
   "outputs": [
    {
     "output_type": "stream",
     "name": "stdout",
     "text": [
      "Citrus/Coffee\t0.304 0.756 0.047 0.555 0.124\n",
      "Citrus/Vanilla\t0.679 0.765 0.047 0.597 0.130\n",
      "Citrus/Water\t0.616 0.828 0.034 0.706 0.112\n",
      "Coffee/Vanilla\t0.723 0.839 0.037 0.687 0.110\n",
      "Coffee/Water\t0.589 0.848 0.030 0.666 0.126\n",
      "Vanilla/Water\t0.527 0.816 0.042 0.683 0.107\n"
     ]
    }
   ],
   "metadata": {}
  },
  {
   "cell_type": "code",
   "execution_count": 116,
   "source": [
    "for (i, j), (features, _) in feature_selection_results.items():\n",
    "    print(f\"{class_names[i]}/{class_names[j]}\\t\", *features)"
   ],
   "outputs": [
    {
     "output_type": "stream",
     "name": "stdout",
     "text": [
      "Citrus/Coffee\t Fp2_mean O1_std Fp1_mean T5_mean O1_mean\n",
      "Citrus/Vanilla\t O2_mean C4_mean C3_mean F3_mean\n",
      "Citrus/Water\t O1_mean T4_std\n",
      "Coffee/Vanilla\t F8_mean F7_std T6_mean Fp1_mean T4_std F3_std F3_mean\n",
      "Coffee/Water\t Fp1_std\n",
      "Vanilla/Water\t O2_mean O1_mean C4_std C4_mean F7_std\n"
     ]
    }
   ],
   "metadata": {}
  },
  {
   "cell_type": "code",
   "execution_count": 8,
   "source": [
    "data = get_merged_df(features_path / 'all_0_0_7', feature_methods)\n",
    "features = list(data.columns.difference(['fn', 'target']))\n",
    "data.head()"
   ],
   "outputs": [
    {
     "output_type": "execute_result",
     "data": {
      "text/plain": [
       "   env_alpha_fp1_fp2  env_alpha_fp1_f7  env_alpha_fp1_f3  env_alpha_fp1_fz  \\\n",
       "0           0.728747          0.557128          0.652252          0.774022   \n",
       "1           0.191329          0.293626          0.279259          0.340023   \n",
       "2           0.570483          0.488297          0.456368          0.444780   \n",
       "3           0.682393          0.383139          0.631745          0.628942   \n",
       "4           0.671084          0.543896          0.620903          0.503212   \n",
       "\n",
       "   env_alpha_fp1_f4  env_alpha_fp1_f8  env_alpha_fp1_t3  env_alpha_fp1_c3  \\\n",
       "0          0.630732          0.500448          0.114410          0.270400   \n",
       "1          0.281449          0.234218          0.075645          0.257257   \n",
       "2          0.311246          0.212093          0.147013          0.383302   \n",
       "3          0.544653          0.422603         -0.097839          0.553785   \n",
       "4          0.300300          0.630495          0.026636          0.348767   \n",
       "\n",
       "   env_alpha_fp1_cz  env_alpha_fp1_c4  ...  bands_alpha_pz  bands_beta_pz  \\\n",
       "0          0.400406          0.430984  ...        0.419438       0.149982   \n",
       "1          0.288395          0.234279  ...        0.473191       0.105472   \n",
       "2          0.348944          0.240513  ...        0.514799       0.072773   \n",
       "3          0.445966          0.241486  ...        0.469203       0.126967   \n",
       "4          0.087897          0.022022  ...        0.318246       0.107448   \n",
       "\n",
       "   bands_alpha_p4  bands_beta_p4  bands_alpha_t6  bands_beta_t6  \\\n",
       "0        0.375767       0.119748        0.312296       0.204379   \n",
       "1        0.483560       0.111492        0.288829       0.177723   \n",
       "2        0.541080       0.067787        0.377990       0.113485   \n",
       "3        0.454507       0.112658        0.369901       0.138770   \n",
       "4        0.371171       0.107085        0.384489       0.116639   \n",
       "\n",
       "   bands_alpha_o1  bands_beta_o1  bands_alpha_o2  bands_beta_o2  \n",
       "0        0.219560       0.156076        0.290165       0.131872  \n",
       "1        0.150658       0.115895        0.238478       0.102426  \n",
       "2        0.287490       0.158040        0.454373       0.113725  \n",
       "3        0.266381       0.109961        0.322294       0.099955  \n",
       "4        0.227058       0.087034        0.326424       0.080596  \n",
       "\n",
       "[5 rows x 724 columns]"
      ],
      "text/html": [
       "<div>\n",
       "<style scoped>\n",
       "    .dataframe tbody tr th:only-of-type {\n",
       "        vertical-align: middle;\n",
       "    }\n",
       "\n",
       "    .dataframe tbody tr th {\n",
       "        vertical-align: top;\n",
       "    }\n",
       "\n",
       "    .dataframe thead th {\n",
       "        text-align: right;\n",
       "    }\n",
       "</style>\n",
       "<table border=\"1\" class=\"dataframe\">\n",
       "  <thead>\n",
       "    <tr style=\"text-align: right;\">\n",
       "      <th></th>\n",
       "      <th>env_alpha_fp1_fp2</th>\n",
       "      <th>env_alpha_fp1_f7</th>\n",
       "      <th>env_alpha_fp1_f3</th>\n",
       "      <th>env_alpha_fp1_fz</th>\n",
       "      <th>env_alpha_fp1_f4</th>\n",
       "      <th>env_alpha_fp1_f8</th>\n",
       "      <th>env_alpha_fp1_t3</th>\n",
       "      <th>env_alpha_fp1_c3</th>\n",
       "      <th>env_alpha_fp1_cz</th>\n",
       "      <th>env_alpha_fp1_c4</th>\n",
       "      <th>...</th>\n",
       "      <th>bands_alpha_pz</th>\n",
       "      <th>bands_beta_pz</th>\n",
       "      <th>bands_alpha_p4</th>\n",
       "      <th>bands_beta_p4</th>\n",
       "      <th>bands_alpha_t6</th>\n",
       "      <th>bands_beta_t6</th>\n",
       "      <th>bands_alpha_o1</th>\n",
       "      <th>bands_beta_o1</th>\n",
       "      <th>bands_alpha_o2</th>\n",
       "      <th>bands_beta_o2</th>\n",
       "    </tr>\n",
       "  </thead>\n",
       "  <tbody>\n",
       "    <tr>\n",
       "      <th>0</th>\n",
       "      <td>0.728747</td>\n",
       "      <td>0.557128</td>\n",
       "      <td>0.652252</td>\n",
       "      <td>0.774022</td>\n",
       "      <td>0.630732</td>\n",
       "      <td>0.500448</td>\n",
       "      <td>0.114410</td>\n",
       "      <td>0.270400</td>\n",
       "      <td>0.400406</td>\n",
       "      <td>0.430984</td>\n",
       "      <td>...</td>\n",
       "      <td>0.419438</td>\n",
       "      <td>0.149982</td>\n",
       "      <td>0.375767</td>\n",
       "      <td>0.119748</td>\n",
       "      <td>0.312296</td>\n",
       "      <td>0.204379</td>\n",
       "      <td>0.219560</td>\n",
       "      <td>0.156076</td>\n",
       "      <td>0.290165</td>\n",
       "      <td>0.131872</td>\n",
       "    </tr>\n",
       "    <tr>\n",
       "      <th>1</th>\n",
       "      <td>0.191329</td>\n",
       "      <td>0.293626</td>\n",
       "      <td>0.279259</td>\n",
       "      <td>0.340023</td>\n",
       "      <td>0.281449</td>\n",
       "      <td>0.234218</td>\n",
       "      <td>0.075645</td>\n",
       "      <td>0.257257</td>\n",
       "      <td>0.288395</td>\n",
       "      <td>0.234279</td>\n",
       "      <td>...</td>\n",
       "      <td>0.473191</td>\n",
       "      <td>0.105472</td>\n",
       "      <td>0.483560</td>\n",
       "      <td>0.111492</td>\n",
       "      <td>0.288829</td>\n",
       "      <td>0.177723</td>\n",
       "      <td>0.150658</td>\n",
       "      <td>0.115895</td>\n",
       "      <td>0.238478</td>\n",
       "      <td>0.102426</td>\n",
       "    </tr>\n",
       "    <tr>\n",
       "      <th>2</th>\n",
       "      <td>0.570483</td>\n",
       "      <td>0.488297</td>\n",
       "      <td>0.456368</td>\n",
       "      <td>0.444780</td>\n",
       "      <td>0.311246</td>\n",
       "      <td>0.212093</td>\n",
       "      <td>0.147013</td>\n",
       "      <td>0.383302</td>\n",
       "      <td>0.348944</td>\n",
       "      <td>0.240513</td>\n",
       "      <td>...</td>\n",
       "      <td>0.514799</td>\n",
       "      <td>0.072773</td>\n",
       "      <td>0.541080</td>\n",
       "      <td>0.067787</td>\n",
       "      <td>0.377990</td>\n",
       "      <td>0.113485</td>\n",
       "      <td>0.287490</td>\n",
       "      <td>0.158040</td>\n",
       "      <td>0.454373</td>\n",
       "      <td>0.113725</td>\n",
       "    </tr>\n",
       "    <tr>\n",
       "      <th>3</th>\n",
       "      <td>0.682393</td>\n",
       "      <td>0.383139</td>\n",
       "      <td>0.631745</td>\n",
       "      <td>0.628942</td>\n",
       "      <td>0.544653</td>\n",
       "      <td>0.422603</td>\n",
       "      <td>-0.097839</td>\n",
       "      <td>0.553785</td>\n",
       "      <td>0.445966</td>\n",
       "      <td>0.241486</td>\n",
       "      <td>...</td>\n",
       "      <td>0.469203</td>\n",
       "      <td>0.126967</td>\n",
       "      <td>0.454507</td>\n",
       "      <td>0.112658</td>\n",
       "      <td>0.369901</td>\n",
       "      <td>0.138770</td>\n",
       "      <td>0.266381</td>\n",
       "      <td>0.109961</td>\n",
       "      <td>0.322294</td>\n",
       "      <td>0.099955</td>\n",
       "    </tr>\n",
       "    <tr>\n",
       "      <th>4</th>\n",
       "      <td>0.671084</td>\n",
       "      <td>0.543896</td>\n",
       "      <td>0.620903</td>\n",
       "      <td>0.503212</td>\n",
       "      <td>0.300300</td>\n",
       "      <td>0.630495</td>\n",
       "      <td>0.026636</td>\n",
       "      <td>0.348767</td>\n",
       "      <td>0.087897</td>\n",
       "      <td>0.022022</td>\n",
       "      <td>...</td>\n",
       "      <td>0.318246</td>\n",
       "      <td>0.107448</td>\n",
       "      <td>0.371171</td>\n",
       "      <td>0.107085</td>\n",
       "      <td>0.384489</td>\n",
       "      <td>0.116639</td>\n",
       "      <td>0.227058</td>\n",
       "      <td>0.087034</td>\n",
       "      <td>0.326424</td>\n",
       "      <td>0.080596</td>\n",
       "    </tr>\n",
       "  </tbody>\n",
       "</table>\n",
       "<p>5 rows × 724 columns</p>\n",
       "</div>"
      ]
     },
     "metadata": {},
     "execution_count": 8
    }
   ],
   "metadata": {}
  },
  {
   "cell_type": "markdown",
   "source": [
    "## KNN"
   ],
   "metadata": {}
  },
  {
   "cell_type": "code",
   "execution_count": 18,
   "source": [
    "model = KNeighborsClassifier()\n",
    "\n",
    "selected_features, score, history = models.select_features(df.loc[train_ix], features, model)\n",
    "f\"{score.roc_aucs.mean() = }, {score.accs.mean() = }\""
   ],
   "outputs": [
    {
     "output_type": "display_data",
     "data": {
      "text/plain": [
       "  0%|          | 0/38 [00:00<?, ?it/s]"
      ],
      "application/vnd.jupyter.widget-view+json": {
       "model_id": "2c2d1ab1cb3c49d693099fb6f8414c55",
       "version_major": 2,
       "version_minor": 0
      }
     },
     "metadata": {}
    },
    {
     "output_type": "display_data",
     "data": {
      "text/plain": [
       "  0%|          | 0/4 [00:00<?, ?it/s]"
      ],
      "application/vnd.jupyter.widget-view+json": {
       "model_id": "0cbbeb5b3d504aa59c218c970f77cded",
       "version_major": 2,
       "version_minor": 0
      }
     },
     "metadata": {}
    },
    {
     "output_type": "execute_result",
     "data": {
      "text/plain": [
       "'score.roc_aucs.mean() = 0.6342885375494072, score.accs.mean() = 0.6133333333333333'"
      ]
     },
     "metadata": {},
     "execution_count": 18
    }
   ],
   "metadata": {}
  },
  {
   "cell_type": "code",
   "execution_count": 19,
   "source": [
    "history"
   ],
   "outputs": [
    {
     "output_type": "execute_result",
     "data": {
      "text/plain": [
       "   feature   action     score  score_std\n",
       "0  Fz_mean    added  0.559190   0.020404\n",
       "1  F7_mean    added  0.591551   0.023271\n",
       "2   Pz_std    added  0.609634   0.025820\n",
       "3  Fp1_std    added  0.619318   0.025898\n",
       "4  Fz_mean  removed  0.626581   0.027003\n",
       "5  F7_mean  removed  0.634289   0.025973"
      ],
      "text/html": [
       "<div>\n",
       "<style scoped>\n",
       "    .dataframe tbody tr th:only-of-type {\n",
       "        vertical-align: middle;\n",
       "    }\n",
       "\n",
       "    .dataframe tbody tr th {\n",
       "        vertical-align: top;\n",
       "    }\n",
       "\n",
       "    .dataframe thead th {\n",
       "        text-align: right;\n",
       "    }\n",
       "</style>\n",
       "<table border=\"1\" class=\"dataframe\">\n",
       "  <thead>\n",
       "    <tr style=\"text-align: right;\">\n",
       "      <th></th>\n",
       "      <th>feature</th>\n",
       "      <th>action</th>\n",
       "      <th>score</th>\n",
       "      <th>score_std</th>\n",
       "    </tr>\n",
       "  </thead>\n",
       "  <tbody>\n",
       "    <tr>\n",
       "      <th>0</th>\n",
       "      <td>Fz_mean</td>\n",
       "      <td>added</td>\n",
       "      <td>0.559190</td>\n",
       "      <td>0.020404</td>\n",
       "    </tr>\n",
       "    <tr>\n",
       "      <th>1</th>\n",
       "      <td>F7_mean</td>\n",
       "      <td>added</td>\n",
       "      <td>0.591551</td>\n",
       "      <td>0.023271</td>\n",
       "    </tr>\n",
       "    <tr>\n",
       "      <th>2</th>\n",
       "      <td>Pz_std</td>\n",
       "      <td>added</td>\n",
       "      <td>0.609634</td>\n",
       "      <td>0.025820</td>\n",
       "    </tr>\n",
       "    <tr>\n",
       "      <th>3</th>\n",
       "      <td>Fp1_std</td>\n",
       "      <td>added</td>\n",
       "      <td>0.619318</td>\n",
       "      <td>0.025898</td>\n",
       "    </tr>\n",
       "    <tr>\n",
       "      <th>4</th>\n",
       "      <td>Fz_mean</td>\n",
       "      <td>removed</td>\n",
       "      <td>0.626581</td>\n",
       "      <td>0.027003</td>\n",
       "    </tr>\n",
       "    <tr>\n",
       "      <th>5</th>\n",
       "      <td>F7_mean</td>\n",
       "      <td>removed</td>\n",
       "      <td>0.634289</td>\n",
       "      <td>0.025973</td>\n",
       "    </tr>\n",
       "  </tbody>\n",
       "</table>\n",
       "</div>"
      ]
     },
     "metadata": {},
     "execution_count": 19
    }
   ],
   "metadata": {}
  },
  {
   "cell_type": "code",
   "execution_count": 9,
   "source": [
    "X_train, y_train = df.loc[train_ix, selected_features], df.loc[train_ix, 'target']\n",
    "X_test, y_test = df.loc[test_ix, selected_features], df.loc[test_ix, 'target']\n",
    "\n",
    "roc_auc_score(y_test, KNeighborsClassifier().fit(X_train, y_train).predict_proba(X_test)[:, 1])"
   ],
   "outputs": [
    {
     "output_type": "execute_result",
     "data": {
      "text/plain": [
       "0.4285714285714286"
      ]
     },
     "metadata": {},
     "execution_count": 9
    }
   ],
   "metadata": {}
  },
  {
   "cell_type": "code",
   "execution_count": 138,
   "source": [
    "model = models.LRScaled()\n",
    "feature_selection_results = {}\n",
    "\n",
    "for i, j in combinations(range(1, 5), 2):\n",
    "    method = validation.TrainTestValidator(get_binary(data, i, j), features, model, p_bar=0)\n",
    "    selected_features, score = method.get_features()\n",
    "    feature_selection_results[i, j] = (selected_features, score.roc_auc)"
   ],
   "outputs": [],
   "metadata": {}
  },
  {
   "cell_type": "code",
   "execution_count": 139,
   "source": [
    "for (i, j), (test_features, score) in feature_selection_results.items():\n",
    "    df = get_binary(data, i, j)\n",
    "\n",
    "    train_scores = []\n",
    "    test_scores = []\n",
    "\n",
    "    for _ in range(200):\n",
    "        train_ix, test_ix = train_test_split(df.index, stratify=df['target'])\n",
    "\n",
    "        X_train, y_train = df.loc[train_ix, test_features], df.loc[train_ix, 'target']\n",
    "        X_test, y_test = df.loc[test_ix, test_features], df.loc[test_ix, 'target']\n",
    "\n",
    "        clf = KNeighborsClassifier().fit(X_train, y_train)\n",
    "\n",
    "        train_scores.append(roc_auc_score(y_train, clf.predict_proba(X_train)[:, 1]))\n",
    "        test_scores.append(roc_auc_score(y_test, clf.predict_proba(X_test)[:, 1]))\n",
    "\n",
    "    print(f\"{class_names[i]}/{class_names[j]}\\t{score:.3f} {np.mean(train_scores):.3f} {np.std(train_scores):.3f} {np.mean(test_scores):.3f} {np.std(test_scores):.3f}\")"
   ],
   "outputs": [
    {
     "output_type": "stream",
     "name": "stdout",
     "text": [
      "Citrus/Coffee\t0.232 0.811 0.046 0.667 0.112\n",
      "Citrus/Vanilla\t0.482 0.862 0.039 0.686 0.117\n",
      "Citrus/Water\t0.393 0.891 0.028 0.776 0.109\n",
      "Coffee/Vanilla\t0.464 0.862 0.038 0.729 0.111\n",
      "Coffee/Water\t0.375 0.894 0.032 0.741 0.114\n",
      "Vanilla/Water\t0.732 0.899 0.032 0.797 0.095\n"
     ]
    }
   ],
   "metadata": {}
  },
  {
   "cell_type": "code",
   "execution_count": 141,
   "source": [
    "for (i, j), (features, _) in feature_selection_results.items():\n",
    "    print(f\"{class_names[i]}/{class_names[j]}\\t\", *features)"
   ],
   "outputs": [
    {
     "output_type": "stream",
     "name": "stdout",
     "text": [
      "Citrus/Coffee\t env_beta_fz_t3 bands_beta_fp1 env_alpha_f4_o1 env_alpha_c4_o2 env_alpha_f3_o1 coh_alpha_f3_f8 env_beta_c4_pz coh_beta_f4_p3 bands_alpha_f3 env_alpha_cz_o1 bands_alpha_t3 coh_alpha_fp2_t3 env_alpha_f4_t3 coh_beta_fp1_f4\n",
      "Citrus/Vanilla\t env_beta_f3_o1 coh_alpha_f4_f8 coh_beta_c4_pz env_alpha_fz_t4 coh_beta_fp1_p4 coh_alpha_fp2_f8 env_alpha_c4_t4 env_alpha_fz_t3 env_beta_fp1_f4 env_alpha_fz_t5 env_beta_fz_f4\n",
      "Citrus/Water\t env_alpha_fp1_t3 coh_beta_c3_t6 env_beta_fp1_t5 coh_alpha_o1_o2 coh_alpha_t6_o1 env_alpha_c4_o2 env_alpha_f3_f8 env_alpha_c4_o1 env_beta_fz_t3 env_alpha_t3_o2 env_alpha_c3_o1 coh_alpha_c4_t5 env_alpha_c4_p3 env_beta_f4_t3 coh_beta_t5_p3\n",
      "Coffee/Vanilla\t coh_beta_fp1_f4 env_beta_fz_p4 env_beta_c3_t4 env_alpha_cz_c4 env_alpha_f8_t5 env_alpha_fz_o1 env_alpha_fz_c4 coh_beta_f3_f8 env_beta_f3_p3 coh_alpha_c3_t4 coh_beta_fp2_f7\n",
      "Coffee/Water\t coh_alpha_fp2_t4 env_alpha_fp1_t3 env_alpha_fz_f4 coh_beta_f8_p4 env_alpha_t3_c4 coh_beta_f8_t5 coh_beta_f7_t4 coh_beta_fp1_t6 bands_alpha_o1 env_alpha_f3_t4 env_alpha_t3_t6 env_alpha_c4_t5 coh_beta_p3_t6 coh_alpha_t5_o2 coh_beta_fp2_cz coh_beta_t3_c3\n",
      "Vanilla/Water\t coh_beta_t4_o1 coh_beta_f3_t4 env_alpha_fp1_t3 coh_beta_c4_t6 coh_beta_pz_p4 coh_alpha_t5_t6 coh_alpha_t6_o1 coh_beta_t4_p4 env_beta_pz_p4 env_beta_c3_cz env_alpha_fp2_t4 env_alpha_c3_t5 env_beta_p4_o2 env_beta_f3_t5\n"
     ]
    }
   ],
   "metadata": {}
  },
  {
   "cell_type": "code",
   "execution_count": 11,
   "source": [
    "model = models.LRScaled()\n",
    "\n",
    "for i, j in combinations(range(1, 5), 2):\n",
    "    method = validation.NestedCrossValidator(get_binary(data, i, j), features, model, p_bar=1)\n",
    "    score = method.get_prediction_result()\n",
    "    print(f\"{class_names[i]}/{class_names[j]}\\t{score.roc_auc = }, {score.acc = }\")"
   ],
   "outputs": [
    {
     "output_type": "display_data",
     "data": {
      "text/plain": [
       "  0%|          | 0/10 [00:00<?, ?it/s]"
      ],
      "application/vnd.jupyter.widget-view+json": {
       "version_major": 2,
       "version_minor": 0,
       "model_id": "78c4a354919c46d6b8ae896030de030b"
      }
     },
     "metadata": {}
    },
    {
     "output_type": "stream",
     "name": "stdout",
     "text": [
      "Citrus/Coffee\tscore.roc_auc = 0.6688888888888889, score.acc = 0.6\n"
     ]
    },
    {
     "output_type": "display_data",
     "data": {
      "text/plain": [
       "  0%|          | 0/10 [00:00<?, ?it/s]"
      ],
      "application/vnd.jupyter.widget-view+json": {
       "version_major": 2,
       "version_minor": 0,
       "model_id": "af918d55b214467dad6d880b605ee6c0"
      }
     },
     "metadata": {}
    },
    {
     "output_type": "stream",
     "name": "stdout",
     "text": [
      "Citrus/Vanilla\tscore.roc_auc = 0.51, score.acc = 0.4166666666666667\n"
     ]
    },
    {
     "output_type": "display_data",
     "data": {
      "text/plain": [
       "  0%|          | 0/10 [00:00<?, ?it/s]"
      ],
      "application/vnd.jupyter.widget-view+json": {
       "version_major": 2,
       "version_minor": 0,
       "model_id": "9d00ac8f0dca4afdb4fc61a776d2a249"
      }
     },
     "metadata": {}
    },
    {
     "output_type": "stream",
     "name": "stdout",
     "text": [
      "Citrus/Water\tscore.roc_auc = 0.4722222222222223, score.acc = 0.4166666666666667\n"
     ]
    },
    {
     "output_type": "display_data",
     "data": {
      "text/plain": [
       "  0%|          | 0/10 [00:00<?, ?it/s]"
      ],
      "application/vnd.jupyter.widget-view+json": {
       "version_major": 2,
       "version_minor": 0,
       "model_id": "cb696ae233d94c93ab8d88dfa9870b79"
      }
     },
     "metadata": {}
    },
    {
     "output_type": "stream",
     "name": "stdout",
     "text": [
      "Coffee/Vanilla\tscore.roc_auc = 0.4444444444444445, score.acc = 0.4\n"
     ]
    },
    {
     "output_type": "display_data",
     "data": {
      "text/plain": [
       "  0%|          | 0/10 [00:00<?, ?it/s]"
      ],
      "application/vnd.jupyter.widget-view+json": {
       "version_major": 2,
       "version_minor": 0,
       "model_id": "ad2386040acc422aa903938afdead4c7"
      }
     },
     "metadata": {}
    },
    {
     "output_type": "stream",
     "name": "stdout",
     "text": [
      "Coffee/Water\tscore.roc_auc = 0.46222222222222226, score.acc = 0.4666666666666667\n"
     ]
    },
    {
     "output_type": "display_data",
     "data": {
      "text/plain": [
       "  0%|          | 0/10 [00:00<?, ?it/s]"
      ],
      "application/vnd.jupyter.widget-view+json": {
       "version_major": 2,
       "version_minor": 0,
       "model_id": "82dd49c669e6475f816f6c8a52d55c93"
      }
     },
     "metadata": {}
    },
    {
     "output_type": "stream",
     "name": "stdout",
     "text": [
      "Vanilla/Water\tscore.roc_auc = 0.5155555555555555, score.acc = 0.5\n"
     ]
    }
   ],
   "metadata": {}
  },
  {
   "cell_type": "markdown",
   "source": [
    "## LR"
   ],
   "metadata": {}
  },
  {
   "cell_type": "code",
   "execution_count": 39,
   "source": [
    "df = get_binary(data, 2, 4)\n",
    "\n",
    "model = models.LRScaled()\n",
    "\n",
    "selected_features, score, history = models.select_features(df.loc[train_ix], features, model)\n",
    "f\"{score.roc_aucs.mean() = }, {score.accs.mean() = }\""
   ],
   "outputs": [
    {
     "output_type": "display_data",
     "data": {
      "text/plain": [
       "  0%|          | 0/722 [00:00<?, ?it/s]"
      ],
      "application/vnd.jupyter.widget-view+json": {
       "version_major": 2,
       "version_minor": 0,
       "model_id": "4a905cdda9d849f38f29a46d7810a58d"
      }
     },
     "metadata": {}
    },
    {
     "output_type": "display_data",
     "data": {
      "text/plain": [
       "  0%|          | 0/14 [00:00<?, ?it/s]"
      ],
      "application/vnd.jupyter.widget-view+json": {
       "version_major": 2,
       "version_minor": 0,
       "model_id": "2a0e92774d6445a296bc95c6c525f226"
      }
     },
     "metadata": {}
    },
    {
     "output_type": "execute_result",
     "data": {
      "text/plain": [
       "'score.roc_aucs.mean() = 0.9993083003952569, score.accs.mean() = 0.9533333333333334'"
      ]
     },
     "metadata": {},
     "execution_count": 39
    }
   ],
   "metadata": {}
  },
  {
   "cell_type": "code",
   "execution_count": 40,
   "source": [
    "history"
   ],
   "outputs": [
    {
     "output_type": "execute_result",
     "data": {
      "text/plain": [
       "             feature action     score  score_std\n",
       "0    coh_alpha_p3_t6  added  0.755237   0.010481\n",
       "1    coh_alpha_t5_t6  added  0.760474   0.013814\n",
       "2     coh_beta_c4_t6  added  0.804249   0.012238\n",
       "3    coh_alpha_p3_o1  added  0.812055   0.015635\n",
       "4     coh_beta_t4_t6  added  0.862549   0.010615\n",
       "5   coh_alpha_fp1_fz  added  0.884387   0.011344\n",
       "6     coh_beta_fz_t3  added  0.895455   0.010381\n",
       "7    coh_beta_fp2_f7  added  0.917589   0.009123\n",
       "8     env_beta_t6_o1  added  0.947727   0.010651\n",
       "9    env_alpha_t3_c3  added  0.961660   0.006886\n",
       "10   env_alpha_t3_p4  added  0.969466   0.005134\n",
       "11  coh_alpha_fp2_t5  added  0.982411   0.005336\n",
       "12    coh_beta_p3_o1  added  0.991008   0.003876\n",
       "13    coh_beta_fz_f4  added  0.999308   0.001292"
      ],
      "text/html": [
       "<div>\n",
       "<style scoped>\n",
       "    .dataframe tbody tr th:only-of-type {\n",
       "        vertical-align: middle;\n",
       "    }\n",
       "\n",
       "    .dataframe tbody tr th {\n",
       "        vertical-align: top;\n",
       "    }\n",
       "\n",
       "    .dataframe thead th {\n",
       "        text-align: right;\n",
       "    }\n",
       "</style>\n",
       "<table border=\"1\" class=\"dataframe\">\n",
       "  <thead>\n",
       "    <tr style=\"text-align: right;\">\n",
       "      <th></th>\n",
       "      <th>feature</th>\n",
       "      <th>action</th>\n",
       "      <th>score</th>\n",
       "      <th>score_std</th>\n",
       "    </tr>\n",
       "  </thead>\n",
       "  <tbody>\n",
       "    <tr>\n",
       "      <th>0</th>\n",
       "      <td>coh_alpha_p3_t6</td>\n",
       "      <td>added</td>\n",
       "      <td>0.755237</td>\n",
       "      <td>0.010481</td>\n",
       "    </tr>\n",
       "    <tr>\n",
       "      <th>1</th>\n",
       "      <td>coh_alpha_t5_t6</td>\n",
       "      <td>added</td>\n",
       "      <td>0.760474</td>\n",
       "      <td>0.013814</td>\n",
       "    </tr>\n",
       "    <tr>\n",
       "      <th>2</th>\n",
       "      <td>coh_beta_c4_t6</td>\n",
       "      <td>added</td>\n",
       "      <td>0.804249</td>\n",
       "      <td>0.012238</td>\n",
       "    </tr>\n",
       "    <tr>\n",
       "      <th>3</th>\n",
       "      <td>coh_alpha_p3_o1</td>\n",
       "      <td>added</td>\n",
       "      <td>0.812055</td>\n",
       "      <td>0.015635</td>\n",
       "    </tr>\n",
       "    <tr>\n",
       "      <th>4</th>\n",
       "      <td>coh_beta_t4_t6</td>\n",
       "      <td>added</td>\n",
       "      <td>0.862549</td>\n",
       "      <td>0.010615</td>\n",
       "    </tr>\n",
       "    <tr>\n",
       "      <th>5</th>\n",
       "      <td>coh_alpha_fp1_fz</td>\n",
       "      <td>added</td>\n",
       "      <td>0.884387</td>\n",
       "      <td>0.011344</td>\n",
       "    </tr>\n",
       "    <tr>\n",
       "      <th>6</th>\n",
       "      <td>coh_beta_fz_t3</td>\n",
       "      <td>added</td>\n",
       "      <td>0.895455</td>\n",
       "      <td>0.010381</td>\n",
       "    </tr>\n",
       "    <tr>\n",
       "      <th>7</th>\n",
       "      <td>coh_beta_fp2_f7</td>\n",
       "      <td>added</td>\n",
       "      <td>0.917589</td>\n",
       "      <td>0.009123</td>\n",
       "    </tr>\n",
       "    <tr>\n",
       "      <th>8</th>\n",
       "      <td>env_beta_t6_o1</td>\n",
       "      <td>added</td>\n",
       "      <td>0.947727</td>\n",
       "      <td>0.010651</td>\n",
       "    </tr>\n",
       "    <tr>\n",
       "      <th>9</th>\n",
       "      <td>env_alpha_t3_c3</td>\n",
       "      <td>added</td>\n",
       "      <td>0.961660</td>\n",
       "      <td>0.006886</td>\n",
       "    </tr>\n",
       "    <tr>\n",
       "      <th>10</th>\n",
       "      <td>env_alpha_t3_p4</td>\n",
       "      <td>added</td>\n",
       "      <td>0.969466</td>\n",
       "      <td>0.005134</td>\n",
       "    </tr>\n",
       "    <tr>\n",
       "      <th>11</th>\n",
       "      <td>coh_alpha_fp2_t5</td>\n",
       "      <td>added</td>\n",
       "      <td>0.982411</td>\n",
       "      <td>0.005336</td>\n",
       "    </tr>\n",
       "    <tr>\n",
       "      <th>12</th>\n",
       "      <td>coh_beta_p3_o1</td>\n",
       "      <td>added</td>\n",
       "      <td>0.991008</td>\n",
       "      <td>0.003876</td>\n",
       "    </tr>\n",
       "    <tr>\n",
       "      <th>13</th>\n",
       "      <td>coh_beta_fz_f4</td>\n",
       "      <td>added</td>\n",
       "      <td>0.999308</td>\n",
       "      <td>0.001292</td>\n",
       "    </tr>\n",
       "  </tbody>\n",
       "</table>\n",
       "</div>"
      ]
     },
     "metadata": {},
     "execution_count": 40
    }
   ],
   "metadata": {}
  },
  {
   "cell_type": "code",
   "execution_count": 12,
   "source": [
    "X_train, y_train = df.loc[train_ix, selected_features], df.loc[train_ix, 'target']\n",
    "X_test, y_test = df.loc[test_ix, selected_features], df.loc[test_ix, 'target']\n",
    "\n",
    "roc_auc_score(y_test, models.LRScaled().fit(X_train, y_train).predict_proba(X_test)[:, 1])"
   ],
   "outputs": [
    {
     "output_type": "execute_result",
     "data": {
      "text/plain": [
       "0.3571428571428572"
      ]
     },
     "metadata": {},
     "execution_count": 12
    }
   ],
   "metadata": {}
  },
  {
   "cell_type": "code",
   "execution_count": 17,
   "source": [
    "method = validation.NestedCrossValidator(get_binary(data, 1, 3), features, model, p_bar=1)\n",
    "score = method.get_prediction_result()\n",
    "f\"{score.roc_auc = }, {score.acc = }\""
   ],
   "outputs": [
    {
     "output_type": "error",
     "ename": "NameError",
     "evalue": "name 'model' is not defined",
     "traceback": [
      "\u001b[0;31m---------------------------------------------------------------------------\u001b[0m",
      "\u001b[0;31mNameError\u001b[0m                                 Traceback (most recent call last)",
      "\u001b[0;32m<ipython-input-17-b696b9d49169>\u001b[0m in \u001b[0;36m<module>\u001b[0;34m\u001b[0m\n\u001b[0;32m----> 1\u001b[0;31m \u001b[0mmethod\u001b[0m \u001b[0;34m=\u001b[0m \u001b[0mvalidation\u001b[0m\u001b[0;34m.\u001b[0m\u001b[0mNestedCrossValidator\u001b[0m\u001b[0;34m(\u001b[0m\u001b[0mget_binary\u001b[0m\u001b[0;34m(\u001b[0m\u001b[0mdata\u001b[0m\u001b[0;34m,\u001b[0m \u001b[0;36m1\u001b[0m\u001b[0;34m,\u001b[0m \u001b[0;36m3\u001b[0m\u001b[0;34m)\u001b[0m\u001b[0;34m,\u001b[0m \u001b[0mfeatures\u001b[0m\u001b[0;34m,\u001b[0m \u001b[0mmodel\u001b[0m\u001b[0;34m,\u001b[0m \u001b[0mp_bar\u001b[0m\u001b[0;34m=\u001b[0m\u001b[0;36m1\u001b[0m\u001b[0;34m)\u001b[0m\u001b[0;34m\u001b[0m\u001b[0;34m\u001b[0m\u001b[0m\n\u001b[0m\u001b[1;32m      2\u001b[0m \u001b[0mscore\u001b[0m \u001b[0;34m=\u001b[0m \u001b[0mmethod\u001b[0m\u001b[0;34m.\u001b[0m\u001b[0mget_prediction_result\u001b[0m\u001b[0;34m(\u001b[0m\u001b[0;34m)\u001b[0m\u001b[0;34m\u001b[0m\u001b[0;34m\u001b[0m\u001b[0m\n\u001b[1;32m      3\u001b[0m \u001b[0;34mf\"{score.roc_auc = }, {score.acc = }\"\u001b[0m\u001b[0;34m\u001b[0m\u001b[0;34m\u001b[0m\u001b[0m\n",
      "\u001b[0;31mNameError\u001b[0m: name 'model' is not defined"
     ]
    }
   ],
   "metadata": {}
  },
  {
   "cell_type": "code",
   "execution_count": 14,
   "source": [
    "method = validation.TrainTestValidator(get_binary(data, 1, 3), features, model, p_bar=1)\n",
    "selected_features, score = method.get_features()\n",
    "f\"{score.roc_auc = }, {score.acc = }\""
   ],
   "outputs": [
    {
     "output_type": "display_data",
     "data": {
      "text/plain": [
       "  0%|          | 0/722 [00:00<?, ?it/s]"
      ],
      "application/vnd.jupyter.widget-view+json": {
       "model_id": "f67d3e45c6ff40408b21cc6bc19d2116",
       "version_major": 2,
       "version_minor": 0
      }
     },
     "metadata": {}
    },
    {
     "output_type": "display_data",
     "data": {
      "text/plain": [
       "  0%|          | 0/15 [00:00<?, ?it/s]"
      ],
      "application/vnd.jupyter.widget-view+json": {
       "model_id": "3dceb2e4632947d898e3b59d2756bd4f",
       "version_major": 2,
       "version_minor": 0
      }
     },
     "metadata": {}
    },
    {
     "output_type": "execute_result",
     "data": {
      "text/plain": [
       "'score.roc_auc = 0.25, score.acc = 0.3333333333333333'"
      ]
     },
     "metadata": {},
     "execution_count": 14
    }
   ],
   "metadata": {}
  },
  {
   "cell_type": "code",
   "execution_count": null,
   "source": [],
   "outputs": [],
   "metadata": {}
  }
 ],
 "metadata": {
  "interpreter": {
   "hash": "3134bdf3a4896135609665b32bda8250e295a183fc80fd857b48e43758072a97"
  },
  "kernelspec": {
   "name": "python3",
   "display_name": "Python 3.9.1 64-bit ('neuroml': conda)"
  },
  "language_info": {
   "codemirror_mode": {
    "name": "ipython",
    "version": 3
   },
   "file_extension": ".py",
   "mimetype": "text/x-python",
   "name": "python",
   "nbconvert_exporter": "python",
   "pygments_lexer": "ipython3",
   "version": "3.9.1"
  },
  "orig_nbformat": 4
 },
 "nbformat": 4,
 "nbformat_minor": 2
}